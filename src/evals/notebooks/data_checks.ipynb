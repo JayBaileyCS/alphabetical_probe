{
 "cells": [
  {
   "cell_type": "code",
   "execution_count": 1,
   "metadata": {},
   "outputs": [
    {
     "ename": "ModuleNotFoundError",
     "evalue": "No module named 'plotly'",
     "output_type": "error",
     "traceback": [
      "\u001b[1;31m---------------------------------------------------------------------------\u001b[0m",
      "\u001b[1;31mModuleNotFoundError\u001b[0m                       Traceback (most recent call last)",
      "\u001b[1;32mc:\\Users\\Jay\\VSProjects\\alphabetical_probe\\src\\evals\\notebooks\\data_checks.ipynb Cell 1\u001b[0m line \u001b[0;36m7\n\u001b[0;32m      <a href='vscode-notebook-cell:/c%3A/Users/Jay/VSProjects/alphabetical_probe/src/evals/notebooks/data_checks.ipynb#W0sZmlsZQ%3D%3D?line=3'>4</a>\u001b[0m sys\u001b[39m.\u001b[39mpath\u001b[39m.\u001b[39mappend(\u001b[39m\"\u001b[39m\u001b[39m../..\u001b[39m\u001b[39m\"\u001b[39m)\n\u001b[0;32m      <a href='vscode-notebook-cell:/c%3A/Users/Jay/VSProjects/alphabetical_probe/src/evals/notebooks/data_checks.ipynb#W0sZmlsZQ%3D%3D?line=5'>6</a>\u001b[0m \u001b[39mfrom\u001b[39;00m \u001b[39mevals\u001b[39;00m\u001b[39m.\u001b[39;00m\u001b[39mspelling_by_grade\u001b[39;00m \u001b[39mimport\u001b[39;00m create_full_spelling_prompt, prepare_grade_spelling_eval\n\u001b[1;32m----> <a href='vscode-notebook-cell:/c%3A/Users/Jay/VSProjects/alphabetical_probe/src/evals/notebooks/data_checks.ipynb#W0sZmlsZQ%3D%3D?line=6'>7</a>\u001b[0m \u001b[39mfrom\u001b[39;00m \u001b[39mevals\u001b[39;00m\u001b[39m.\u001b[39;00m\u001b[39mplot_utils\u001b[39;00m \u001b[39mimport\u001b[39;00m basic_bar_graph, create_table, nested_bar_graph\n\u001b[0;32m      <a href='vscode-notebook-cell:/c%3A/Users/Jay/VSProjects/alphabetical_probe/src/evals/notebooks/data_checks.ipynb#W0sZmlsZQ%3D%3D?line=7'>8</a>\u001b[0m \u001b[39mfrom\u001b[39;00m \u001b[39mevals\u001b[39;00m\u001b[39m.\u001b[39;00m\u001b[39meval_utils\u001b[39;00m \u001b[39mimport\u001b[39;00m ModelType\n\u001b[0;32m      <a href='vscode-notebook-cell:/c%3A/Users/Jay/VSProjects/alphabetical_probe/src/evals/notebooks/data_checks.ipynb#W0sZmlsZQ%3D%3D?line=8'>9</a>\u001b[0m \u001b[39mfrom\u001b[39;00m \u001b[39mevals\u001b[39;00m\u001b[39m.\u001b[39;00m\u001b[39meval_list\u001b[39;00m \u001b[39mimport\u001b[39;00m \u001b[39m*\u001b[39m\n",
      "File \u001b[1;32mc:\\Users\\Jay\\VSProjects\\alphabetical_probe\\src\\evals\\notebooks\\../..\\evals\\plot_utils.py:6\u001b[0m\n\u001b[0;32m      4\u001b[0m \u001b[39mimport\u001b[39;00m \u001b[39mnumpy\u001b[39;00m \u001b[39mas\u001b[39;00m \u001b[39mnp\u001b[39;00m\n\u001b[0;32m      5\u001b[0m \u001b[39mimport\u001b[39;00m \u001b[39mpandas\u001b[39;00m \u001b[39mas\u001b[39;00m \u001b[39mpd\u001b[39;00m\n\u001b[1;32m----> 6\u001b[0m \u001b[39mimport\u001b[39;00m \u001b[39mplotly\u001b[39;00m\u001b[39m.\u001b[39;00m\u001b[39mgraph_objects\u001b[39;00m \u001b[39mas\u001b[39;00m \u001b[39mgo\u001b[39;00m\n\u001b[0;32m      9\u001b[0m \u001b[39mdef\u001b[39;00m \u001b[39mbasic_bar_graph\u001b[39m(data: Dict[\u001b[39mint\u001b[39m, \u001b[39mint\u001b[39m], ymin\u001b[39m=\u001b[39m\u001b[39m0\u001b[39m, ymax\u001b[39m=\u001b[39m\u001b[39m1\u001b[39m):\n\u001b[0;32m     10\u001b[0m \u001b[39m    \u001b[39m\u001b[39m\"\"\"Creates a basic graph from a set of {x_1: y_1, ... x_n: y_n} data.\"\"\"\u001b[39;00m\n",
      "\u001b[1;31mModuleNotFoundError\u001b[0m: No module named 'plotly'"
     ]
    }
   ],
   "source": [
    "import json\n",
    "import os\n",
    "import sys\n",
    "sys.path.append(\"../..\")\n",
    "\n",
    "from evals.spelling_by_grade import create_full_spelling_prompt, prepare_grade_spelling_eval\n",
    "from evals.plot_utils import basic_bar_graph, create_confusion_matrix, create_table, nested_bar_graph\n",
    "from evals.eval_utils import ModelType\n",
    "from evals.eval_list import *\n",
    "\n",
    "words_by_grade = prepare_grade_spelling_eval(\"../data/GradeSpellingEval.txt\", '-')\n",
    "words_by_grade[3][:10]"
   ]
  },
  {
   "cell_type": "code",
   "execution_count": null,
   "metadata": {},
   "outputs": [],
   "source": [
    "with open(\"../data/grade_spelling_eval_results_gptj.json\") as file:\n",
    "    eval_results = json.load(file)"
   ]
  },
  {
   "cell_type": "code",
   "execution_count": null,
   "metadata": {},
   "outputs": [],
   "source": [
    "table = create_table(eval_results[FULL_SPELLING_EVAL.name]['2']['data'])\n",
    "table"
   ]
  },
  {
   "cell_type": "code",
   "execution_count": null,
   "metadata": {},
   "outputs": [],
   "source": [
    "from collections import defaultdict\n",
    "\n",
    "char_dict = {item: {'correct': 0, 'incorrect': 0} for item in string.ascii_uppercase}\n",
    "\n",
    "def populate_char_dict(char_dict, answer, response):\n",
    "    answer, response = answer.split('-'), response.split('-')\n",
    "    for i, char in enumerate(answer):\n",
    "        if char in char_dict:\n",
    "            if len(response) > i and response[i] == answer[i]:\n",
    "                char_dict[char]['correct'] += 1\n",
    "            else:\n",
    "                char_dict[char]['incorrect'] += 1\n",
    "                break\n",
    "\n",
    "# Check for the first misspelling in all words without special characters like periods/apostrophes.\n",
    "# Only the first because otherwise misspellings like R-A-B-B-I-T -> R-A-B-I-T would count as wrong for I and T as well.\n",
    "for grade in eval_results[FULL_SPELLING_EVAL.name]['2']['data']:\n",
    "    for word in eval_results[FULL_SPELLING_EVAL.name]['2']['data'][grade]:\n",
    "        if ''.join(word['answer'].split('-')).isalpha():\n",
    "            populate_char_dict(char_dict, word['answer'], word['formatted_response'])\n",
    "\n",
    "print(char_dict)"
   ]
  },
  {
   "cell_type": "code",
   "execution_count": null,
   "metadata": {},
   "outputs": [],
   "source": [
    "import plotly.io as pio\n",
    "\n",
    "pio.renderers.default = \"iframe\" # No idea why this works, and the others don't.\n",
    "char_accuracy_dict = {i: char_dict[i]['correct'] / (char_dict[i]['correct'] + char_dict[i]['incorrect']) for i in char_dict.keys()}\n",
    "print(char_accuracy_dict)\n",
    "basic_bar_graph(char_accuracy_dict)"
   ]
  },
  {
   "cell_type": "code",
   "execution_count": null,
   "metadata": {},
   "outputs": [],
   "source": [
    "from collections import defaultdict\n",
    "import copy\n",
    "\n",
    "allowed_characters = list(string.ascii_uppercase) + ['_']\n",
    "char_dict = {item: defaultdict(int) for item in allowed_characters}\n",
    "char_dict['Other'] = defaultdict(int)\n",
    "\n",
    "def populate_char_dict(char_dict, answer, response):\n",
    "    # answer and response are of the form H-E-L-L-O.\n",
    "    answer, response = answer.split('-'), response.split('-')\n",
    "\n",
    "    for i, char in enumerate(answer):\n",
    "        # If response is shorter than answer, treat missing characters as spaces\n",
    "        if char not in char_dict:\n",
    "            char = 'Other'\n",
    "        resp_char = response[i] if len(response) > i else '_'\n",
    "        if resp_char not in char_dict:\n",
    "            resp_char = 'Other'\n",
    "        char_dict[char][resp_char] += 1\n",
    "\n",
    "        if char != resp_char:\n",
    "            break  # Stop checking further characters after the first misspelling\n",
    "\n",
    "# Check for the first misspelling in all words without special characters like periods/apostrophes.\n",
    "# Only the first because otherwise misspellings like R-A-B-B-I-T -> R-A-B-I-T would count as wrong for I and T as well.\n",
    "for grade in eval_results[FULL_SPELLING_EVAL.name]['2']['data']:\n",
    "    for word in eval_results[FULL_SPELLING_EVAL.name]['2']['data'][grade]:\n",
    "        if ''.join(word['answer'].split('-')).isalpha(): # Ignore non-alphabetic characters like apostrophes.\n",
    "            populate_char_dict(char_dict, word['answer'], word['formatted_response'])\n",
    "            \n",
    "create_confusion_matrix(char_dict)"
   ]
  },
  {
   "cell_type": "code",
   "execution_count": 1,
   "metadata": {},
   "outputs": [
    {
     "ename": "NameError",
     "evalue": "name 'char_dict' is not defined",
     "output_type": "error",
     "traceback": [
      "\u001b[1;31m---------------------------------------------------------------------------\u001b[0m",
      "\u001b[1;31mNameError\u001b[0m                                 Traceback (most recent call last)",
      "\u001b[1;32mc:\\Users\\Jay\\VSProjects\\alphabetical_probe\\src\\evals\\notebooks\\data_checks.ipynb Cell 7\u001b[0m line \u001b[0;36m1\n\u001b[0;32m     <a href='vscode-notebook-cell:/c%3A/Users/Jay/VSProjects/alphabetical_probe/src/evals/notebooks/data_checks.ipynb#W6sZmlsZQ%3D%3D?line=11'>12</a>\u001b[0m     precision, recall \u001b[39m=\u001b[39m get_precision(char_dict, char), get_recall(char_dict, char)\n\u001b[0;32m     <a href='vscode-notebook-cell:/c%3A/Users/Jay/VSProjects/alphabetical_probe/src/evals/notebooks/data_checks.ipynb#W6sZmlsZQ%3D%3D?line=12'>13</a>\u001b[0m     \u001b[39mreturn\u001b[39;00m \u001b[39m0\u001b[39m \u001b[39mif\u001b[39;00m precision \u001b[39m+\u001b[39m recall \u001b[39m==\u001b[39m \u001b[39m0\u001b[39m \u001b[39melse\u001b[39;00m \u001b[39mround\u001b[39m((\u001b[39m2\u001b[39m \u001b[39m*\u001b[39m precision \u001b[39m*\u001b[39m recall) \u001b[39m/\u001b[39m (precision \u001b[39m+\u001b[39m recall), \u001b[39m3\u001b[39m)\n\u001b[0;32m     <a href='vscode-notebook-cell:/c%3A/Users/Jay/VSProjects/alphabetical_probe/src/evals/notebooks/data_checks.ipynb#W6sZmlsZQ%3D%3D?line=14'>15</a>\u001b[0m prf_dict \u001b[39m=\u001b[39m {char: {\u001b[39m'\u001b[39m\u001b[39mprecision\u001b[39m\u001b[39m'\u001b[39m: get_precision(char_dict, char), \n\u001b[0;32m     <a href='vscode-notebook-cell:/c%3A/Users/Jay/VSProjects/alphabetical_probe/src/evals/notebooks/data_checks.ipynb#W6sZmlsZQ%3D%3D?line=15'>16</a>\u001b[0m                    \u001b[39m'\u001b[39m\u001b[39mrecall\u001b[39m\u001b[39m'\u001b[39m: get_recall(char_dict, char), \n\u001b[1;32m---> <a href='vscode-notebook-cell:/c%3A/Users/Jay/VSProjects/alphabetical_probe/src/evals/notebooks/data_checks.ipynb#W6sZmlsZQ%3D%3D?line=16'>17</a>\u001b[0m                    \u001b[39m'\u001b[39m\u001b[39mf1_score\u001b[39m\u001b[39m'\u001b[39m: get_f1_score(char_dict, char)} \u001b[39mfor\u001b[39;00m char \u001b[39min\u001b[39;00m char_dict}\n\u001b[0;32m     <a href='vscode-notebook-cell:/c%3A/Users/Jay/VSProjects/alphabetical_probe/src/evals/notebooks/data_checks.ipynb#W6sZmlsZQ%3D%3D?line=17'>18</a>\u001b[0m prf_dict\n\u001b[0;32m     <a href='vscode-notebook-cell:/c%3A/Users/Jay/VSProjects/alphabetical_probe/src/evals/notebooks/data_checks.ipynb#W6sZmlsZQ%3D%3D?line=18'>19</a>\u001b[0m basic_bar_graph({k: prf_dict[k][\u001b[39m'\u001b[39m\u001b[39mf1_score\u001b[39m\u001b[39m'\u001b[39m] \u001b[39mfor\u001b[39;00m k \u001b[39min\u001b[39;00m prf_dict\u001b[39m.\u001b[39mkeys()})\n",
      "\u001b[1;31mNameError\u001b[0m: name 'char_dict' is not defined"
     ]
    }
   ],
   "source": [
    "def get_precision(char_dict, char):\n",
    "    true_positives = char_dict[char][char]\n",
    "    false_positives = sum([char_dict[c][char] for c in char_dict if c!= char])\n",
    "    return 0 if true_positives + false_positives == 0 else round(true_positives / (true_positives + false_positives), 3)\n",
    "\n",
    "def get_recall(char_dict, char):\n",
    "    true_positives = char_dict[char][char]\n",
    "    false_negatives = sum([char_dict[char][c] for c in char_dict if c != char])\n",
    "    return 0 if true_positives + false_negatives == 0 else round(true_positives / (true_positives + false_negatives), 3)\n",
    "\n",
    "def get_f1_score(char_dict, char):\n",
    "    precision, recall = get_precision(char_dict, char), get_recall(char_dict, char)\n",
    "    return 0 if precision + recall == 0 else round((2 * precision * recall) / (precision + recall), 3)\n",
    "\n",
    "prf_dict = {char: {'precision': get_precision(char_dict, char), \n",
    "                   'recall': get_recall(char_dict, char), \n",
    "                   'f1_score': get_f1_score(char_dict, char)} for char in char_dict}\n",
    "prf_dict\n",
    "basic_bar_graph({k: prf_dict[k]['precision'] for k in prf_dict.keys()})\n",
    "basic_bar_graph({k: prf_dict[k]['recall'] for k in prf_dict.keys()})\n",
    "basic_bar_graph({k: prf_dict[k]['f1_score'] for k in prf_dict.keys()})"
   ]
  }
 ],
 "metadata": {
  "kernelspec": {
   "display_name": "alphabet",
   "language": "python",
   "name": "python3"
  },
  "language_info": {
   "codemirror_mode": {
    "name": "ipython",
    "version": 3
   },
   "file_extension": ".py",
   "mimetype": "text/x-python",
   "name": "python",
   "nbconvert_exporter": "python",
   "pygments_lexer": "ipython3",
   "version": "3.11.5"
  }
 },
 "nbformat": 4,
 "nbformat_minor": 2
}
