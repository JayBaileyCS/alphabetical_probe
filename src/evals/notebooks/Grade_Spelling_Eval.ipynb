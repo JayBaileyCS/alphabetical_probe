{
 "cells": [
  {
   "cell_type": "code",
   "execution_count": 10,
   "metadata": {},
   "outputs": [
    {
     "data": {
      "text/plain": [
       "[('able', 'A-B-L-E'),\n",
       " ('above', 'A-B-O-V-E'),\n",
       " ('afraid', 'A-F-R-A-I-D'),\n",
       " ('afternoon', 'A-F-T-E-R-N-O-O-N'),\n",
       " ('again', 'A-G-A-I-N'),\n",
       " ('age', 'A-G-E'),\n",
       " ('air', 'A-I-R'),\n",
       " ('airplane', 'A-I-R-P-L-A-N-E'),\n",
       " ('almost', 'A-L-M-O-S-T'),\n",
       " ('alone', 'A-L-O-N-E')]"
      ]
     },
     "execution_count": 10,
     "metadata": {},
     "output_type": "execute_result"
    }
   ],
   "source": [
    "import sys\n",
    "import plotly.io as pio\n",
    "import plotly.graph_objects as go\n",
    "sys.path.append(\"../..\")\n",
    "\n",
    "from evals.spelling_by_grade import assess_model_on_words, create_few_shot_grade_spelling_prompt, prepare_grade_spelling_eval\n",
    "from evals.plot_utils import basic_bar_graph, create_table, nested_bar_graph\n",
    "\n",
    "pio.renderers.default = \"notebook\"\n",
    "\n",
    "words_by_grade = prepare_grade_spelling_eval(\"../data/GradeSpellingEval.txt\", '-')\n",
    "words_by_grade[3][:10]"
   ]
  },
  {
   "cell_type": "code",
   "execution_count": null,
   "metadata": {},
   "outputs": [],
   "source": [
    "create_few_shot_grade_spelling_prompt('able', words_by_grade[3], 2)"
   ]
  },
  {
   "cell_type": "code",
   "execution_count": null,
   "metadata": {},
   "outputs": [],
   "source": [
    "from transformers import AutoTokenizer, AutoModelForCausalLM\n",
    "from transformer_lens import HookedTransformer\n",
    "\n",
    "SUPPORTED_MODELS = ['TransformerLens', 'HuggingFace']\n",
    "MODEL_TYPE = 'HuggingFace' # TransformerLens or HuggingFace\n",
    "assert MODEL_TYPE in SUPPORTED_MODELS\n",
    "\n",
    "if MODEL_TYPE == 'HuggingFace':\n",
    "    tokenizer = AutoTokenizer.from_pretrained(\"EleutherAI/gpt-j-6B\")\n",
    "    model = AutoModelForCausalLM.from_pretrained(\"EleutherAI/gpt-j-6B\")\n",
    "elif MODEL_TYPE == 'TransformerLens':\n",
    "    model = HookedTransformer.from_pretrained(\"gpt-j-6b\")\n",
    "    tokenizer = model.tokenizer"
   ]
  },
  {
   "cell_type": "code",
   "execution_count": null,
   "metadata": {},
   "outputs": [],
   "source": [
    "import torch\n",
    "\n",
    "device = \"cuda:0\" if torch.cuda.is_available() else \"cpu\"\n",
    "model.to(device)\n",
    "torch.set_grad_enabled(False)\n",
    "print(device, MODEL_TYPE)\n",
    "\n",
    "prompts = [\"Once upon a time\", \"Once upon a time\"]\n",
    "if MODEL_TYPE == 'HuggingFace':\n",
    "    model.config.pad_token_id = tokenizer.eos_token_id # Prevent lots of info messages telling us it's doing this every prompt.\n",
    "    tokenizer.pad_token = tokenizer.eos_token\n",
    "    tokenizer.padding_side = 'left'\n",
    "    input_ids = tokenizer(prompts, padding=True, truncation=True, return_tensors=\"pt\").to(model.device)\n",
    "    outputs = model.generate(**input_ids, max_length=50, num_return_sequences=1, temperature=0.7, do_sample=True)\n",
    "    response = [tokenizer.decode(output, skip_special_tokens=True) for output in outputs]\n",
    "elif MODEL_TYPE == 'TransformerLens':\n",
    "    print(model.to_tokens(prompts[0]).shape[-1])\n",
    "    response = [model.generate(prompt, max_new_tokens=10, temperature=0.7) for prompt in prompts]\n",
    "print(response)"
   ]
  },
  {
   "cell_type": "code",
   "execution_count": null,
   "metadata": {},
   "outputs": [],
   "source": [
    "shots = [0, 1, 2, 5, 10]\n",
    "shot_data = {shot: {} for shot in shots}\n",
    "for shot in shots:\n",
    "    print(f\"Checking {shot} {'shot' if shot == 1 else 'shots'}\") # Was the grammar necessary? No, but it bugged me.\n",
    "    shot_data[shot] = assess_model_on_words(model, MODEL_TYPE, tokenizer, words_by_grade, shot, 10)"
   ]
  },
  {
   "cell_type": "code",
   "execution_count": null,
   "metadata": {},
   "outputs": [],
   "source": [
    "# Check how closely model's spelling ability matches grade.\n",
    "shot_successes = {}\n",
    "for shot in shots:\n",
    "    successes = {grade: 0 for grade in words_by_grade.keys()}\n",
    "    for grade in shot_data[shot].keys():\n",
    "        successes[grade] = [word['answer'] in word['response'].upper() for word in shot_data[shot][grade]].count(True) / len(shot_data[shot][grade])\n",
    "        successes[grade] = round(successes[grade], 3)\n",
    "    shot_successes[shot] = successes\n",
    "print(shot_successes)"
   ]
  },
  {
   "cell_type": "code",
   "execution_count": null,
   "metadata": {},
   "outputs": [],
   "source": [
    "basic_bar_graph(shot_successes[2])"
   ]
  },
  {
   "cell_type": "code",
   "execution_count": null,
   "metadata": {},
   "outputs": [],
   "source": [
    "# Check how closely model's spelling ability matches length of the word.\n",
    "lengths = {shot: {i: {'success': 0, 'total': 0} for i in range(1, 13)} for shot in [0, 1, 2, 5, 10]}\n",
    "\n",
    "for shot in lengths.keys():\n",
    "    for grade in shot_data[shot].keys():\n",
    "        for word in shot_data[shot][grade]:\n",
    "            length = len(word['answer']) - word['answer'].count('-')\n",
    "            lengths[shot][length]['total'] += 1\n",
    "            if word['response'] in word['answer']:\n",
    "                lengths[shot][length]['success'] += 1\n",
    "\n",
    "# This is kinda janky, and I don't want to move it into plot_utils right now since it's very reliant on a particular data structure.\n",
    "def success_rate_bar_graph(data):\n",
    "    success_rates = {key: val['success'] / val['total'] if val['total'] > 0 else 0 for key, val in data.items()}\n",
    "    sample_sizes = {key: val['total'] for key, val in data.items()}\n",
    "\n",
    "    fig = go.Figure(go.Bar(\n",
    "        x=list(success_rates.keys()), \n",
    "        y=list(success_rates.values()),\n",
    "        text=[f\"n={n}\" for n in sample_sizes.values()],  # Sample sizes as text\n",
    "        textposition='auto'  # Positioning the text inside the bars\n",
    "    ))\n",
    "    \n",
    "    fig.update_layout(yaxis=dict(range=[0, 1]))\n",
    "    fig.show()\n",
    "\n",
    "success_rate_bar_graph(lengths[2])"
   ]
  },
  {
   "cell_type": "code",
   "execution_count": null,
   "metadata": {},
   "outputs": [],
   "source": [
    "import numpy as np\n",
    "\n",
    "green_shades = ['#a1d99b', '#74c476', '#31a354', '#006d2c', '#024736']\n",
    "nested_bar_graph(shot_successes, green_shades)"
   ]
  },
  {
   "cell_type": "code",
   "execution_count": null,
   "metadata": {},
   "outputs": [],
   "source": [
    "# Check to see how often the model gets the first letter right.\n",
    "first_successes = {shot: {} for shot in shots}\n",
    "for shot in shots:\n",
    "    successes = {grade: 0 for grade in words_by_grade.keys()}\n",
    "    for grade in range(1, 6):\n",
    "        success_list = [word['response'].strip().upper().startswith(word['answer'][0]) for word in shot_data[shot][grade] if min(len(word['response']), len(word['answer'])) > 0]\n",
    "        successes[grade] = round((success_list.count(True) / len(shot_data[shot][grade])), 3)                                                                                                                           \n",
    "    first_successes[shot] = successes\n",
    "print(first_successes)\n",
    "nested_bar_graph(first_successes)"
   ]
  },
  {
   "cell_type": "code",
   "execution_count": null,
   "metadata": {},
   "outputs": [],
   "source": [
    "\n",
    "table = create_table(shot_data[2])\n",
    "table"
   ]
  }
 ],
 "metadata": {
  "kernelspec": {
   "display_name": "alphabet",
   "language": "python",
   "name": "python3"
  },
  "language_info": {
   "codemirror_mode": {
    "name": "ipython",
    "version": 3
   },
   "file_extension": ".py",
   "mimetype": "text/x-python",
   "name": "python",
   "nbconvert_exporter": "python",
   "pygments_lexer": "ipython3",
   "version": "3.11.5"
  }
 },
 "nbformat": 4,
 "nbformat_minor": 2
}
