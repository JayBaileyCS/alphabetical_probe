{
 "cells": [
  {
   "cell_type": "code",
   "execution_count": 10,
   "metadata": {},
   "outputs": [
    {
     "data": {
      "text/plain": [
       "[('able', 'A-B-L-E'),\n",
       " ('above', 'A-B-O-V-E'),\n",
       " ('afraid', 'A-F-R-A-I-D'),\n",
       " ('afternoon', 'A-F-T-E-R-N-O-O-N'),\n",
       " ('again', 'A-G-A-I-N'),\n",
       " ('age', 'A-G-E'),\n",
       " ('air', 'A-I-R'),\n",
       " ('airplane', 'A-I-R-P-L-A-N-E'),\n",
       " ('almost', 'A-L-M-O-S-T'),\n",
       " ('alone', 'A-L-O-N-E')]"
      ]
     },
     "execution_count": 10,
     "metadata": {},
     "output_type": "execute_result"
    }
   ],
   "source": [
    "import sys\n",
    "sys.path.append(\"../..\")\n",
    "\n",
    "from evals.spelling_by_grade import assess_model_on_words, create_few_shot_grade_spelling_prompt, prepare_grade_spelling_eval\n",
    "\n",
    "words_by_grade = prepare_grade_spelling_eval(\"../data/GradeSpellingEval.txt\", '-')\n",
    "words_by_grade[3][:10]"
   ]
  },
  {
   "cell_type": "code",
   "execution_count": null,
   "metadata": {},
   "outputs": [],
   "source": [
    "create_few_shot_grade_spelling_prompt('able', words_by_grade[3], 2)"
   ]
  },
  {
   "cell_type": "code",
   "execution_count": null,
   "metadata": {},
   "outputs": [],
   "source": [
    "from transformers import AutoTokenizer, AutoModelForCausalLM\n",
    "\n",
    "tokenizer = AutoTokenizer.from_pretrained(\"EleutherAI/gpt-j-6B\")\n",
    "model = AutoModelForCausalLM.from_pretrained(\"EleutherAI/gpt-j-6B\")"
   ]
  },
  {
   "cell_type": "code",
   "execution_count": null,
   "metadata": {},
   "outputs": [],
   "source": [
    "import torch\n",
    "\n",
    "device = \"cuda:0\" if torch.cuda.is_available() else \"cpu\"\n",
    "model.to(device)\n",
    "model.config.pad_token_id = tokenizer.eos_token_id # Prevent lots of info messages telling us it's doing this every prompt.\n",
    "tokenizer.pad_token = tokenizer.eos_token\n",
    "tokenizer.padding_side = 'left'\n",
    "\n",
    "prompt = \"Once upon a time\"\n",
    "input_ids = tokenizer.encode(prompt, return_tensors='pt').to(device)\n",
    "output = model.generate(input_ids, max_length=50, num_return_sequences=1)\n",
    "response = tokenizer.decode(output[0], skip_special_tokens=True)\n",
    "print(response)"
   ]
  },
  {
   "cell_type": "code",
   "execution_count": null,
   "metadata": {},
   "outputs": [],
   "source": [
    "shots = [0, 1, 2, 5, 10]\n",
    "shot_data = {shot: {} for shot in shots}\n",
    "for shot in shots:\n",
    "    print(f\"Checking {shot} {'shot' if shot == 1 else 'shots'}\") # Was the grammar necessary? No, but it bugged me.\n",
    "    shot_data[shot] = assess_model_on_words(model, words_by_grade, shot, 10)"
   ]
  },
  {
   "cell_type": "code",
   "execution_count": null,
   "metadata": {},
   "outputs": [],
   "source": [
    "# Check how closely model's spelling ability matches grade.\n",
    "shot_successes = {shot: {} for shot in shots}\n",
    "for shot in shots:\n",
    "    successes = {grade: 0 for grade in words_by_grade.keys()}\n",
    "    for grade in shot_data[shot].keys():\n",
    "        successes[grade] = round([word[1].upper().startswith(word[0][1]) for word in shot_data[shot][grade]].count(True) / len(data[grade]), 3)\n",
    "    shot_successes[shot] = successes\n",
    "print(shot_successes)"
   ]
  },
  {
   "cell_type": "code",
   "execution_count": null,
   "metadata": {},
   "outputs": [],
   "source": [
    "import plotly.graph_objects as go\n",
    "import plotly.io as pio\n",
    "\n",
    "pio.renderers.default = \"notebook\"\n",
    "\n",
    "def basic_bar_graph(data):\n",
    "    fig = go.Figure(go.Bar(x=list(data.keys()), y=list(data.values())))\n",
    "    fig.update_layout(yaxis=dict(range=[0, 1]))\n",
    "    fig.show()\n",
    "\n",
    "basic_bar_graph(shot_successes[2])"
   ]
  },
  {
   "cell_type": "code",
   "execution_count": null,
   "metadata": {},
   "outputs": [],
   "source": [
    "# Check how closely model's spelling ability matches length of the word.\n",
    "lengths = {shot: {i: {'success': 0, 'total': 0} for i in range(1, 13)} for shot in [0, 1, 2, 5, 10]}\n",
    "\n",
    "for shot in lengths.keys():\n",
    "    for grade in shot_data[shot].keys():\n",
    "        for word in shot_data[shot][grade]:\n",
    "            length = len(word[0][0])\n",
    "            lengths[shot][length]['total'] += 1\n",
    "            if word[1] == word[0][1]:\n",
    "                lengths[shot][length]['success'] += 1\n",
    "\n",
    "def success_rate_bar_graph(data):\n",
    "    success_rates = {key: val['success'] / val['total'] if val['total'] > 0 else 0 for key, val in data.items()}\n",
    "    sample_sizes = {key: val['total'] for key, val in data.items()}\n",
    "\n",
    "    fig = go.Figure(go.Bar(\n",
    "        x=list(success_rates.keys()), \n",
    "        y=list(success_rates.values()),\n",
    "        text=[f\"n={n}\" for n in sample_sizes.values()],  # Sample sizes as text\n",
    "        textposition='auto'  # Positioning the text inside the bars\n",
    "    ))\n",
    "    \n",
    "    fig.update_layout(yaxis=dict(range=[0, 1]))\n",
    "    fig.show()\n",
    "\n",
    "success_rate_bar_graph(lengths[2])"
   ]
  },
  {
   "cell_type": "code",
   "execution_count": null,
   "metadata": {},
   "outputs": [],
   "source": [
    "import numpy as np\n",
    "\n",
    "def nested_bar_graph(data):\n",
    "  fig = go.Figure()\n",
    "  green_shades = ['#a1d99b', '#74c476', '#31a354', '#006d2c', '#024736']\n",
    "  # The number of keys in the inner dictionaries determines the number of bars in each group\n",
    "  num_inner_keys = len(next(iter(data.values())))\n",
    "  bar_width = 0.15\n",
    "  gap = 0.02  # Gap between groups of bars\n",
    "\n",
    "  # Calculate the total width for each group of bars\n",
    "  total_bar_group_width = num_inner_keys * bar_width + (num_inner_keys - 1) * gap\n",
    "\n",
    "  # Generate the x-axis positions for the groups\n",
    "  group_positions = np.linspace(0, len(data) - 1, len(data))\n",
    "\n",
    "  # Add bars for each key in the nested dictionary\n",
    "  for i, (key, values) in enumerate(data.items()):\n",
    "      for j, (sub_key, value) in enumerate(values.items()):\n",
    "          # Position each bar within the group based on its sub_key\n",
    "          bar_position = group_positions[i] + (j - num_inner_keys / 2) * (bar_width + gap) + bar_width / 2\n",
    "          fig.add_trace(go.Bar(\n",
    "              x=[bar_position], \n",
    "              y=[value],\n",
    "              width=bar_width,\n",
    "              name=f'{key}-shot Grade {sub_key}',\n",
    "              marker_color=green_shades[j % len(green_shades)]\n",
    "          ))\n",
    "\n",
    "  # Update layout to display the bars in groups\n",
    "  fig.update_layout(\n",
    "      barmode='group',\n",
    "      title='Accuracy By Grade And Few-Shots (No Letters Given)',\n",
    "      xaxis=dict(\n",
    "          title='Number of Few Shots',\n",
    "          tickmode='array',\n",
    "          tickvals=group_positions,\n",
    "          ticktext=list(data.keys())\n",
    "      ),\n",
    "      yaxis=dict(title='Values'),\n",
    "      legend=dict(title='Legend'),\n",
    "      showlegend=True\n",
    "  )\n",
    "\n",
    "  # Show the figure\n",
    "  fig.show()\n",
    "\n",
    "nested_bar_graph(shot_successes)"
   ]
  },
  {
   "cell_type": "code",
   "execution_count": null,
   "metadata": {},
   "outputs": [],
   "source": [
    "# Check to see how often the model gets the first letter right.\n",
    "first_successes = {shot: {} for shot in shots}\n",
    "for shot in shots:\n",
    "    successes = {grade: 0 for grade in words_by_grade.keys()}\n",
    "    for grade in range(1, 6):\n",
    "        success_list = [word[1].upper().startswith(word[0][1][:1]) for word in shot_data[shot][grade]]\n",
    "        for i, item in enumerate(success_list):\n",
    "            if item is False and shot > 1: # When does the model get the first letter wrong with 2-shot or higher?\n",
    "                print(shot_data[shot][grade][i])\n",
    "        successes[grade] = round([word[1].upper().startswith(word[0][1][:1]) for word in shot_data[shot][grade]].count(True) / len(shot_data[shot][grade]), 3)\n",
    "    first_successes[shot] = successes\n",
    "print(first_successes)"
   ]
  }
 ],
 "metadata": {
  "kernelspec": {
   "display_name": "alphabet",
   "language": "python",
   "name": "python3"
  },
  "language_info": {
   "codemirror_mode": {
    "name": "ipython",
    "version": 3
   },
   "file_extension": ".py",
   "mimetype": "text/x-python",
   "name": "python",
   "nbconvert_exporter": "python",
   "pygments_lexer": "ipython3",
   "version": "3.11.5"
  }
 },
 "nbformat": 4,
 "nbformat_minor": 2
}
