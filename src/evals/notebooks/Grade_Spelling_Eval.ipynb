{
 "cells": [
  {
   "cell_type": "code",
   "execution_count": 10,
   "metadata": {},
   "outputs": [
    {
     "data": {
      "text/plain": [
       "[('able', 'A-B-L-E'),\n",
       " ('above', 'A-B-O-V-E'),\n",
       " ('afraid', 'A-F-R-A-I-D'),\n",
       " ('afternoon', 'A-F-T-E-R-N-O-O-N'),\n",
       " ('again', 'A-G-A-I-N'),\n",
       " ('age', 'A-G-E'),\n",
       " ('air', 'A-I-R'),\n",
       " ('airplane', 'A-I-R-P-L-A-N-E'),\n",
       " ('almost', 'A-L-M-O-S-T'),\n",
       " ('alone', 'A-L-O-N-E')]"
      ]
     },
     "execution_count": 10,
     "metadata": {},
     "output_type": "execute_result"
    }
   ],
   "source": [
    "import json\n",
    "import os\n",
    "import sys\n",
    "sys.path.append(\"../..\")\n",
    "\n",
    "from evals.spelling_by_grade import create_full_spelling_prompt, prepare_grade_spelling_eval\n",
    "from evals.plot_utils import basic_bar_graph, create_table, nested_bar_graph\n",
    "from evals.eval_utils import ModelType\n",
    "from evals.eval_list import *\n",
    "\n",
    "words_by_grade = prepare_grade_spelling_eval(\"../data/GradeSpellingEval.txt\", '-')\n",
    "words_by_grade[3][:10]"
   ]
  },
  {
   "cell_type": "code",
   "execution_count": null,
   "metadata": {},
   "outputs": [],
   "source": [
    "create_full_spelling_prompt('able', words_by_grade[3], 2)"
   ]
  },
  {
   "cell_type": "code",
   "execution_count": null,
   "metadata": {},
   "outputs": [],
   "source": [
    "import torch\n",
    "\n",
    "MODEL_TYPE = ModelType.HUGGINGFACE\n",
    "device = \"cuda:0\" if torch.cuda.is_available() else \"cpu\"\n",
    "model, tokenizer = load_huggingface_model(\"EleutherAI/gpt-j-6b\")\n",
    "model.config.pad_token_id = tokenizer.eos_token_id # Prevent lots of info messages telling us it's doing this every prompt.\n",
    "tokenizer.pad_token = tokenizer.eos_token\n",
    "tokenizer.padding_side = 'left'\n",
    "model.to(device)\n",
    "torch.set_grad_enabled(False)\n",
    "print(device, MODEL_TYPE)"
   ]
  },
  {
   "cell_type": "code",
   "execution_count": null,
   "metadata": {},
   "outputs": [],
   "source": [
    "NEW_FILENAME = 'grade_spelling_eval_results_gptj.json'\n",
    "eval_results = {eval.name: {} for eval in EVAL_LIST}\n",
    "for eval in EVAL_LIST:\n",
    "    eval_results[eval] = eval.run_eval_with_multiple_shots(model, ModelType.HUGGINGFACE, tokenizer, words_by_grade, [0, 1, 2, 5, 10])\n",
    "with open(NEW_FILENAME, 'r') as f:\n",
    "    json.dump(eval_results)"
   ]
  },
  {
   "cell_type": "code",
   "execution_count": null,
   "metadata": {},
   "outputs": [],
   "source": [
    "table = create_table(eval_results[GET_FIRST_LETTER_EVAL]['data'][2])\n",
    "table"
   ]
  }
 ],
 "metadata": {
  "kernelspec": {
   "display_name": "alphabet",
   "language": "python",
   "name": "python3"
  },
  "language_info": {
   "codemirror_mode": {
    "name": "ipython",
    "version": 3
   },
   "file_extension": ".py",
   "mimetype": "text/x-python",
   "name": "python",
   "nbconvert_exporter": "python",
   "pygments_lexer": "ipython3",
   "version": "3.11.5"
  }
 },
 "nbformat": 4,
 "nbformat_minor": 2
}
