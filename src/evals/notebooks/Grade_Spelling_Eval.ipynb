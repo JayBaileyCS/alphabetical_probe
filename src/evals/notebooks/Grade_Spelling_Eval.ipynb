{
 "cells": [
  {
   "cell_type": "code",
   "execution_count": 10,
   "metadata": {},
   "outputs": [
    {
     "data": {
      "text/plain": [
       "[('able', 'A-B-L-E'),\n",
       " ('above', 'A-B-O-V-E'),\n",
       " ('afraid', 'A-F-R-A-I-D'),\n",
       " ('afternoon', 'A-F-T-E-R-N-O-O-N'),\n",
       " ('again', 'A-G-A-I-N'),\n",
       " ('age', 'A-G-E'),\n",
       " ('air', 'A-I-R'),\n",
       " ('airplane', 'A-I-R-P-L-A-N-E'),\n",
       " ('almost', 'A-L-M-O-S-T'),\n",
       " ('alone', 'A-L-O-N-E')]"
      ]
     },
     "execution_count": 10,
     "metadata": {},
     "output_type": "execute_result"
    }
   ],
   "source": [
    "import sys\n",
    "sys.path.append(\"../..\")\n",
    "\n",
    "from evals.spelling_by_grade import create_full_spelling_prompt, prepare_grade_spelling_eval\n",
    "from evals.plot_utils import basic_bar_graph, create_table, nested_bar_graph\n",
    "from evals.eval_utils import ModelType\n",
    "from evals.eval_list import FULL_SPELLING_EVAL, GET_FIRST_LETTER_EVAL, GET_POSITION_OF_LETTER_EVAL, EVAL_LIST\n",
    "\n",
    "words_by_grade = prepare_grade_spelling_eval(\"../data/GradeSpellingEval.txt\", '-')\n",
    "words_by_grade[3][:10]"
   ]
  },
  {
   "cell_type": "code",
   "execution_count": null,
   "metadata": {},
   "outputs": [],
   "source": [
    "create_full_spelling_prompt('able', words_by_grade[3], 2)"
   ]
  },
  {
   "cell_type": "code",
   "execution_count": null,
   "metadata": {},
   "outputs": [],
   "source": [
    "from transformers import AutoTokenizer, AutoModelForCausalLM\n",
    "from transformer_lens import HookedTransformer\n",
    "\n",
    "MODEL_TYPE = ModelType.HUGGINGFACE\n",
    "\n",
    "if MODEL_TYPE == ModelType.HUGGINGFACE:\n",
    "    model = AutoModelForCausalLM.from_pretrained(\"EleutherAI/gpt-j-6B\")\n",
    "    tokenizer = AutoTokenizer.from_pretrained(\"EleutherAI/gpt-j-6B\")\n",
    "    model.config.pad_token_id = tokenizer.eos_token_id # Prevent lots of info messages telling us it's doing this every prompt.\n",
    "    tokenizer.pad_token = tokenizer.eos_token\n",
    "    tokenizer.padding_side = 'left'\n",
    "elif MODEL_TYPE == ModelType.TRANSFORMER_LENS:\n",
    "    model = HookedTransformer.from_pretrained(\"gpt-j-6b\")\n",
    "    tokenizer = model.tokenizer"
   ]
  },
  {
   "cell_type": "code",
   "execution_count": null,
   "metadata": {},
   "outputs": [],
   "source": [
    "import torch\n",
    "import transformer_lens.utils as utils\n",
    "\n",
    "device = \"cuda:0\" if torch.cuda.is_available() else \"cpu\"\n",
    "model.to(device)\n",
    "torch.set_grad_enabled(False)\n",
    "print(device, MODEL_TYPE)\n",
    "\n",
    "prompts = [\"Once upon a time\", \"Once upon a time two\"]\n",
    "if MODEL_TYPE == ModelType.HUGGINGFACE:\n",
    "    input_ids = tokenizer(prompts, padding=True, truncation=True, return_tensors=\"pt\").to(model.device)\n",
    "    outputs = model.generate(**input_ids, max_length=20, num_return_sequences=1, temperature=0.7, do_sample=True)\n",
    "    response = [tokenizer.decode(output, skip_special_tokens=True) for output in outputs]\n",
    "elif MODEL_TYPE == ModelType.TRANSFORMER_LENS:\n",
    "    tokens = [model.to_tokens(prompt) for prompt in prompts]\n",
    "    max_length = 20\n",
    "    eos_token = model.to_tokens(model.tokenizer.eos_token, prepend_bos=False).item()\n",
    "    tokens = [torch.cat((torch.full((max_length - token.shape[-1],), eos_token, dtype=torch.long).to(utils.get_device()), \n",
    "                         torch.as_tensor(token).to(utils.get_device()).squeeze(0))) for token in tokens]\n",
    "    tokens = torch.stack(tokens)\n",
    "    outputs = model.generate(tokens, max_new_tokens=10, temperature=0.7)\n",
    "    response = model.to_string(outputs)\n",
    "print(response)"
   ]
  },
  {
   "cell_type": "code",
   "execution_count": null,
   "metadata": {},
   "outputs": [],
   "source": [
    "full_spelling = FULL_SPELLING_EVAL.run_eval(model, MODEL_TYPE, tokenizer, words_by_grade, 2)\n",
    "full_spelling['accuracy']"
   ]
  },
  {
   "cell_type": "code",
   "execution_count": null,
   "metadata": {},
   "outputs": [],
   "source": [
    "first_letter = GET_FIRST_LETTER_EVAL.run_eval(model, MODEL_TYPE, tokenizer, words_by_grade, 2)\n",
    "first_letter['accuracy']"
   ]
  },
  {
   "cell_type": "code",
   "execution_count": null,
   "metadata": {},
   "outputs": [],
   "source": [
    "# TODO: Consider a filter function in eval_utils to filter out words that are too short, applicable to a given eval.\n",
    "positional_words_by_grade = {grade: {} for grade in words_by_grade.keys()}\n",
    "for grade in words_by_grade:\n",
    "    positional_words_by_grade[grade] = [w for w in words_by_grade[grade] if len(w) > 1]\n",
    "position = GET_POSITION_OF_LETTER_EVAL.run_eval(model, MODEL_TYPE, tokenizer, positional_words_by_grade, 2)\n",
    "position['accuracy']"
   ]
  },
  {
   "cell_type": "code",
   "execution_count": null,
   "metadata": {},
   "outputs": [],
   "source": [
    "'''evals = {eval.name: eval.run_eval(model, MODEL_TYPE, tokenizer, words_by_grade, 2) for eval in EVAL_LIST}\n",
    "for eval in evals:\n",
    "    print(eval, evals[eval]['accuracy'])'''"
   ]
  },
  {
   "cell_type": "code",
   "execution_count": null,
   "metadata": {},
   "outputs": [],
   "source": [
    "basic_bar_graph(position['accuracy'])"
   ]
  },
  {
   "cell_type": "code",
   "execution_count": null,
   "metadata": {},
   "outputs": [],
   "source": [
    "green_shades = ['#a1d99b', '#74c476', '#31a354', '#006d2c', '#024736']\n",
    "\n",
    "shot_successes = FULL_SPELLING_EVAL.run_eval_with_multiple_shots(model, MODEL_TYPE, tokenizer, words_by_grade, [0, 1, 2, 5, 10])\n",
    "nested_bar_graph(shot_successes['accuracy'], green_shades)"
   ]
  },
  {
   "cell_type": "code",
   "execution_count": null,
   "metadata": {},
   "outputs": [],
   "source": [
    "table = create_table(shot_successes['data'][2])\n",
    "table"
   ]
  }
 ],
 "metadata": {
  "kernelspec": {
   "display_name": "alphabet",
   "language": "python",
   "name": "python3"
  },
  "language_info": {
   "codemirror_mode": {
    "name": "ipython",
    "version": 3
   },
   "file_extension": ".py",
   "mimetype": "text/x-python",
   "name": "python",
   "nbconvert_exporter": "python",
   "pygments_lexer": "ipython3",
   "version": "3.11.5"
  }
 },
 "nbformat": 4,
 "nbformat_minor": 2
}
