{
 "cells": [
  {
   "cell_type": "code",
   "execution_count": 1,
   "metadata": {},
   "outputs": [
    {
     "data": {
      "text/plain": [
       "[('able', 'A-B-L-E'),\n",
       " ('above', 'A-B-O-V-E'),\n",
       " ('afraid', 'A-F-R-A-I-D'),\n",
       " ('afternoon', 'A-F-T-E-R-N-O-O-N'),\n",
       " ('again', 'A-G-A-I-N'),\n",
       " ('age', 'A-G-E'),\n",
       " ('air', 'A-I-R'),\n",
       " ('airplane', 'A-I-R-P-L-A-N-E'),\n",
       " ('almost', 'A-L-M-O-S-T'),\n",
       " ('alone', 'A-L-O-N-E')]"
      ]
     },
     "execution_count": 1,
     "metadata": {},
     "output_type": "execute_result"
    }
   ],
   "source": [
    "def get_spelling(word):\n",
    "    return '-'.join([char.upper() for char in word])\n",
    "\n",
    "# Get the words and their correct spelling by grade from 1-5.\n",
    "with open(\"GradeSpellingEval.txt\", \"r\") as file:\n",
    "    lines = file.readlines()\n",
    "    lines = [l.replace('\\n', '').replace('*', '') for l in lines]\n",
    "    grade_indices = [i for i in range(len(lines)-1) if lines[i].startswith(\"GRADE\")] + [len(lines)]\n",
    "    words_by_grade = {}\n",
    "    for i, idx in enumerate(grade_indices):\n",
    "        if i+1 < len(grade_indices):\n",
    "            words_by_grade[i+1] = []\n",
    "            for l in range(idx+2, grade_indices[i+1] - 1):\n",
    "                words_by_grade[i+1].append((lines[l].strip(), get_spelling(lines[l].strip())))\n",
    "\n",
    "words_by_grade[3][:10]"
   ]
  },
  {
   "cell_type": "code",
   "execution_count": null,
   "metadata": {},
   "outputs": [],
   "source": [
    "import random\n",
    "\n",
    "def create_few_shot_prompt(word, word_list, num_shots):\n",
    "    # Creates a few shot prompt from the word list, using word as the actual result to answer.\n",
    "    prompt = ''\n",
    "    if word in word_list:\n",
    "        word_list.remove(word) # Ensure we don't sample the same word we want to spell, giving the model the answer.\n",
    "    if num_shots > 0:\n",
    "        samples = random.sample(word_list, num_shots)\n",
    "        for sample in samples:\n",
    "            prompt += f\"Q: How do you spell '{sample[0]}'? A: {sample[1]}\\n\\n\"\n",
    "    prompt += f\"Q: How do you spell '{word}'? A: {word[0].upper()}-\"\n",
    "    return prompt\n",
    "\n",
    "create_few_shot_prompt('able', words_by_grade[3], 2)"
   ]
  },
  {
   "cell_type": "code",
   "execution_count": null,
   "metadata": {},
   "outputs": [],
   "source": [
    "from transformers import AutoTokenizer, AutoModelForCausalLM\n",
    "\n",
    "tokenizer = AutoTokenizer.from_pretrained(\"EleutherAI/gpt-j-6B\")\n",
    "model = AutoModelForCausalLM.from_pretrained(\"EleutherAI/gpt-j-6B\")"
   ]
  },
  {
   "cell_type": "code",
   "execution_count": null,
   "metadata": {},
   "outputs": [],
   "source": [
    "import torch\n",
    "\n",
    "device = \"cuda:0\" if torch.cuda.is_available() else \"cpu\"\n",
    "model.to(device)\n",
    "model.config.pad_token_id = tokenizer.eos_token_id # Prevent lots of info messages telling us it's doing this every prompt.\n",
    "\n",
    "prompt = \"Once upon a time\"\n",
    "input_ids = tokenizer.encode(prompt, return_tensors='pt').to(device)\n",
    "output = model.generate(input_ids, max_length=50, num_return_sequences=1)\n",
    "response = tokenizer.decode(output[0], skip_special_tokens=True)\n",
    "print(response)"
   ]
  },
  {
   "cell_type": "code",
   "execution_count": null,
   "metadata": {},
   "outputs": [],
   "source": [
    "import tqdm.notebook as tqdm\n",
    "\n",
    "# Give the model a few-shot problem and give it the first letter. (Without it, just answers ???? or ____)\n",
    "# Last line is \"Q: How do you spell the word 'example'? A: E-\"\n",
    "def assess_model_on_words(model, word_list, num_shots):\n",
    "    data = {grade: [] for grade in word_list.keys()}\n",
    "    successes = {grade: 0 for grade in word_list.keys()}\n",
    "    for grade in word_list:\n",
    "        print(f\"Assessing Grade {grade}\")\n",
    "\n",
    "        for i in tqdm.tqdm(range(len(word_list[grade]))):\n",
    "            word = word_list[grade][i]\n",
    "            #words = word_list[grade][batch_size*i:max(len(word_list[grade]), batch_size*(i+1))]\n",
    "            prompt = create_few_shot_prompt(word[0], word_list[grade], num_shots)\n",
    "            inputs = tokenizer.encode_plus(prompt, return_tensors='pt').to(device) # Tokens, attention mask\n",
    "            output = model.generate(**inputs, max_new_tokens=2*len(word[0]), num_return_sequences=1)\n",
    "            response = tokenizer.decode(output[0], skip_special_tokens=True)\n",
    "            response = response.split('\\n\\n')[num_shots]\n",
    "            response = response.split('A:')[1].strip()\n",
    "            data[grade].append((word, response))\n",
    "\n",
    "    return data\n",
    "\n",
    "data = assess_model_on_words(model, words_by_grade, 10)"
   ]
  },
  {
   "cell_type": "code",
   "execution_count": null,
   "metadata": {},
   "outputs": [],
   "source": [
    "# Check how closely model's spelling ability matches grade.\n",
    "print(data[1][:10])\n",
    "successes = {grade: 0 for grade in words_by_grade.keys()}\n",
    "for grade in data.keys():\n",
    "    successes[grade] = round([word[1] == word[0][1] for word in data[grade]].count(True) / len(data[grade]), 3)\n",
    "successes"
   ]
  },
  {
   "cell_type": "code",
   "execution_count": null,
   "metadata": {},
   "outputs": [],
   "source": [
    "import plotly.graph_objects as go\n",
    "import plotly.io as pio\n",
    "\n",
    "pio.renderers.default = \"notebook\"\n",
    "successes = {1: 0.978, 2: 0.875, 3: 0.668, 4: 0.579, 5: 0.595}\n",
    "\n",
    "def basic_bar_graph(data):\n",
    "    fig = go.Figure(go.Bar(x=list(data.keys()), y=list(data.values())))\n",
    "    fig.update_layout(yaxis=dict(range=[0, 1]))\n",
    "    fig.show()\n",
    "\n",
    "basic_bar_graph(successes)"
   ]
  },
  {
   "cell_type": "code",
   "execution_count": null,
   "metadata": {},
   "outputs": [],
   "source": [
    "# Check how closely model's spelling ability matches length of the word.\n",
    "lengths = {i: {'success': 0, 'total': 0} for i in range(1, 13)}\n",
    "for grade in data.keys():\n",
    "    for word in data[grade]:\n",
    "        length = len(word[0][0])\n",
    "        lengths[length]['total'] += 1\n",
    "        if word[1] == word[0][1]:\n",
    "            lengths[length]['success'] += 1\n",
    "\n",
    "def success_rate_bar_graph(data):\n",
    "    success_rates = {key: val['success'] / val['total'] if val['total'] > 0 else 0 for key, val in data.items()}\n",
    "    sample_sizes = {key: val['total'] for key, val in data.items()}\n",
    "\n",
    "    fig = go.Figure(go.Bar(\n",
    "        x=list(success_rates.keys()), \n",
    "        y=list(success_rates.values()),\n",
    "        text=[f\"n={n}\" for n in sample_sizes.values()],  # Sample sizes as text\n",
    "        textposition='auto'  # Positioning the text inside the bars\n",
    "    ))\n",
    "    \n",
    "    fig.update_layout(yaxis=dict(range=[0, 1]))\n",
    "    fig.show()\n",
    "\n",
    "success_rate_bar_graph(lengths)\n",
    "print(lengths)"
   ]
  }
 ],
 "metadata": {
  "kernelspec": {
   "display_name": "alphabet",
   "language": "python",
   "name": "python3"
  },
  "language_info": {
   "codemirror_mode": {
    "name": "ipython",
    "version": 3
   },
   "file_extension": ".py",
   "mimetype": "text/x-python",
   "name": "python",
   "nbconvert_exporter": "python",
   "pygments_lexer": "ipython3",
   "version": "3.11.5"
  }
 },
 "nbformat": 4,
 "nbformat_minor": 2
}
