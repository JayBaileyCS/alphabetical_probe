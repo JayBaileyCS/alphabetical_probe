{
 "cells": [
  {
   "cell_type": "code",
   "execution_count": 1,
   "metadata": {},
   "outputs": [
    {
     "data": {
      "text/plain": [
       "[('able', 'A-B-L-E'),\n",
       " ('above', 'A-B-O-V-E'),\n",
       " ('afraid', 'A-F-R-A-I-D'),\n",
       " ('afternoon', 'A-F-T-E-R-N-O-O-N'),\n",
       " ('again', 'A-G-A-I-N'),\n",
       " ('age', 'A-G-E'),\n",
       " ('air', 'A-I-R'),\n",
       " ('airplane', 'A-I-R-P-L-A-N-E'),\n",
       " ('almost', 'A-L-M-O-S-T'),\n",
       " ('alone', 'A-L-O-N-E')]"
      ]
     },
     "execution_count": 1,
     "metadata": {},
     "output_type": "execute_result"
    }
   ],
   "source": [
    "def get_spelling(word):\n",
    "    return '-'.join([char.upper() for char in word])\n",
    "\n",
    "# Get the words and their correct spelling by grade from 1-5.\n",
    "with open(\"GradeSpellingEval.txt\", \"r\") as file:\n",
    "    lines = file.readlines()\n",
    "    lines = [l.replace('\\n', '').replace('*', '') for l in lines]\n",
    "    grade_indices = [i for i in range(len(lines)-1) if lines[i].startswith(\"GRADE\")] + [len(lines)]\n",
    "    words_by_grade = {}\n",
    "    for i, idx in enumerate(grade_indices):\n",
    "        if i+1 < len(grade_indices):\n",
    "            words_by_grade[i+1] = []\n",
    "            for l in range(idx+2, grade_indices[i+1] - 1):\n",
    "                words_by_grade[i+1].append((lines[l].strip(), get_spelling(lines[l].strip())))\n",
    "\n",
    "words_by_grade[3][:10]"
   ]
  },
  {
   "cell_type": "code",
   "execution_count": null,
   "metadata": {},
   "outputs": [],
   "source": [
    "import random\n",
    "\n",
    "def create_few_shot_prompt(word, word_list, num_shots):\n",
    "    # Creates a few shot prompt from the word list, using word as the actual result to answer.\n",
    "    prompt = ''\n",
    "    if word in word_list:\n",
    "        word_list.remove(word) # Ensure we don't sample the same word we want to spell, giving the model the answer.\n",
    "    samples = random.sample(word_list, num_shots)\n",
    "    for sample in samples:\n",
    "        prompt += f\"Q: How do you spell '{sample[0]}'? A: {sample[1]}\\n\\n\"\n",
    "    prompt += f\"Q: How do you spell '{word}'? A: \"\n",
    "    return prompt\n",
    "\n",
    "create_few_shot_prompt('able', words_by_grade[3], 2)"
   ]
  },
  {
   "cell_type": "code",
   "execution_count": null,
   "metadata": {},
   "outputs": [],
   "source": [
    "from transformers import AutoTokenizer, AutoModelForCausalLM\n",
    "\n",
    "tokenizer = AutoTokenizer.from_pretrained(\"EleutherAI/gpt-j-6B\")\n",
    "model = AutoModelForCausalLM.from_pretrained(\"EleutherAI/gpt-j-6B\")"
   ]
  },
  {
   "cell_type": "code",
   "execution_count": null,
   "metadata": {},
   "outputs": [],
   "source": [
    "prompt = \"Once upon a time\"\n",
    "input_ids = tokenizer.encode(prompt, return_tensors='pt')\n",
    "output = model.generate(input_ids, max_length=50, num_return_sequences=1)\n",
    "response = tokenizer.decode(output[0], skip_special_tokens=True)\n",
    "print(response)"
   ]
  },
  {
   "cell_type": "code",
   "execution_count": null,
   "metadata": {},
   "outputs": [],
   "source": [
    "import tqdm.notebook as tqdm\n",
    "\n",
    "def assess_model_on_words(model, word_list, num_shots):\n",
    "    successes = {grade: 0 for grade in word_list.keys()}\n",
    "    for grade in word_list:\n",
    "        print(f\"Assessing Grade {grade}\")\n",
    "        for i in tqdm.tqdm(range(len(word_list[grade]))):\n",
    "            word = word_list[grade][i]\n",
    "            prompt = create_few_shot_prompt(word[0], word_list[grade], num_shots)\n",
    "            inputs = tokenizer.encode_plus(prompt, return_tensors='pt') # Tokens, attention mask\n",
    "            output = model.generate(**inputs, max_new_tokens=10, num_return_sequences=1)\n",
    "            response = tokenizer.decode(output[0], skip_special_tokens=True)\n",
    "            print(response)\n",
    "            if response.startswith(word[1]):\n",
    "                successes[grade] += 1\n",
    "    success_percentage = {grade: successes[grade] / len(word_list[grade]) for grade in word_list.keys()}\n",
    "    return success_percentage\n",
    "\n",
    "# This eval fails - gives ???? or ____ as answers.\n",
    "assess_model_on_words(model, words_by_grade, 10)"
   ]
  }
 ],
 "metadata": {
  "kernelspec": {
   "display_name": "alphabet",
   "language": "python",
   "name": "python3"
  },
  "language_info": {
   "codemirror_mode": {
    "name": "ipython",
    "version": 3
   },
   "file_extension": ".py",
   "mimetype": "text/x-python",
   "name": "python",
   "nbconvert_exporter": "python",
   "pygments_lexer": "ipython3",
   "version": "3.11.5"
  }
 },
 "nbformat": 4,
 "nbformat_minor": 2
}
